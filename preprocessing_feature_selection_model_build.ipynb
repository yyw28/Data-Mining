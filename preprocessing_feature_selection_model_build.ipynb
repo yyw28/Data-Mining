{
 "cells": [
  {
   "cell_type": "code",
   "execution_count": 1,
   "metadata": {},
   "outputs": [],
   "source": [
    "import numpy as np\n",
    "import pandas as pd\n",
    "import matplotlib.pyplot as plt\n",
    "%matplotlib inline\n",
    "import seaborn as sns"
   ]
  },
  {
   "cell_type": "code",
   "execution_count": 6,
   "metadata": {},
   "outputs": [
    {
     "name": "stderr",
     "output_type": "stream",
     "text": [
      "/opt/anaconda3/lib/python3.7/site-packages/ipykernel_launcher.py:2: ParserWarning: Falling back to the 'python' engine because the 'c' engine does not support regex separators (separators > 1 char and different from '\\s+' are interpreted as regex); you can avoid this warning by specifying engine='python'.\n",
      "  \n"
     ]
    }
   ],
   "source": [
    "columns = ['Age', 'Workclass','FNLWGT','Edu','Edu_num','Marital_Status','Occupation','Relationship','Race','Sex','Cap_Gain','Cap_Loss','Hours/wk','Native_Country','Income'] \n",
    "df= pd.read_csv('/Users/yuwenyu/Desktop/Data_Mining/project/census-income.data.csv',sep=' *, *',names=columns, na_values='?')\n",
    "df\n",
    "df=df.dropna()"
   ]
  },
  {
   "cell_type": "code",
   "execution_count": 63,
   "metadata": {},
   "outputs": [
    {
     "name": "stderr",
     "output_type": "stream",
     "text": [
      "/opt/anaconda3/lib/python3.7/site-packages/ipykernel_launcher.py:1: ParserWarning: Falling back to the 'python' engine because the 'c' engine does not support regex separators (separators > 1 char and different from '\\s+' are interpreted as regex); you can avoid this warning by specifying engine='python'.\n",
      "  \"\"\"Entry point for launching an IPython kernel.\n"
     ]
    }
   ],
   "source": [
    "df_test=pd.read_csv('/Users/yuwenyu/Desktop/Data_Mining/project/census-income.test.csv',sep=' *, *',names=columns,na_values='?')"
   ]
  },
  {
   "cell_type": "code",
   "execution_count": 64,
   "metadata": {},
   "outputs": [
    {
     "name": "stdout",
     "output_type": "stream",
     "text": [
      "0    75.107751\n",
      "1    24.892249\n",
      "Name: Income, dtype: float64\n",
      "<=50K.    76.377372\n",
      ">50K.     23.622628\n",
      "Name: Income, dtype: float64\n"
     ]
    }
   ],
   "source": [
    "#Income Spread\n",
    "print(df['Income'].value_counts(normalize=True)*100)\n",
    "print(df_test['Income'].value_counts(normalize=True)*100)"
   ]
  },
  {
   "cell_type": "code",
   "execution_count": 10,
   "metadata": {},
   "outputs": [
    {
     "name": "stdout",
     "output_type": "stream",
     "text": [
      "Age : 0\n",
      "Workclass : 0\n",
      "FNLWGT : 0\n",
      "Edu : 0\n",
      "Edu_num : 0\n",
      "Marital_Status : 0\n",
      "Occupation : 0\n",
      "Relationship : 0\n",
      "Race : 0\n",
      "Sex : 0\n",
      "Cap_Gain : 0\n",
      "Cap_Loss : 0\n",
      "Hours/wk : 0\n",
      "Native_Country : 0\n",
      "Income : 0\n"
     ]
    },
    {
     "name": "stderr",
     "output_type": "stream",
     "text": [
      "/opt/anaconda3/lib/python3.7/site-packages/pandas/core/ops/array_ops.py:253: FutureWarning: elementwise comparison failed; returning scalar instead, but in the future will perform elementwise comparison\n",
      "  res_values = method(rvalues)\n"
     ]
    }
   ],
   "source": [
    "#confirm no more missing values in both train and test data after dropping na\n",
    "for col in df.columns:\n",
    "    print(col,':', df[df[col] == ' ?'][col].count())"
   ]
  },
  {
   "cell_type": "code",
   "execution_count": 11,
   "metadata": {},
   "outputs": [
    {
     "name": "stdout",
     "output_type": "stream",
     "text": [
      "Age : 0\n",
      "Workclass : 0\n",
      "FNLWGT : 0\n",
      "Edu : 0\n",
      "Edu_num : 0\n",
      "Marital_Status : 0\n",
      "Occupation : 0\n",
      "Relationship : 0\n",
      "Race : 0\n",
      "Sex : 0\n",
      "Cap_Gain : 0\n",
      "Cap_Loss : 0\n",
      "Hours/wk : 0\n",
      "Native_Country : 0\n",
      "Income : 0\n"
     ]
    }
   ],
   "source": [
    "for col in df_test.columns:\n",
    "    print(col,':', df_test[df_test[col] == ' ?'][col].count())"
   ]
  },
  {
   "cell_type": "code",
   "execution_count": 12,
   "metadata": {},
   "outputs": [
    {
     "data": {
      "text/plain": [
       "count              30162\n",
       "unique                14\n",
       "top       Prof-specialty\n",
       "freq                4038\n",
       "Name: Occupation, dtype: object"
      ]
     },
     "execution_count": 12,
     "metadata": {},
     "output_type": "execute_result"
    }
   ],
   "source": [
    "df['Occupation'].describe()"
   ]
  },
  {
   "cell_type": "code",
   "execution_count": 13,
   "metadata": {},
   "outputs": [
    {
     "data": {
      "text/plain": [
       "count       30162\n",
       "unique          7\n",
       "top       Private\n",
       "freq        22286\n",
       "Name: Workclass, dtype: object"
      ]
     },
     "execution_count": 13,
     "metadata": {},
     "output_type": "execute_result"
    }
   ],
   "source": [
    "df['Workclass'].describe()"
   ]
  },
  {
   "cell_type": "code",
   "execution_count": 14,
   "metadata": {},
   "outputs": [
    {
     "data": {
      "text/plain": [
       "count             30162\n",
       "unique               41\n",
       "top       United-States\n",
       "freq              27504\n",
       "Name: Native_Country, dtype: object"
      ]
     },
     "execution_count": 14,
     "metadata": {},
     "output_type": "execute_result"
    }
   ],
   "source": [
    "df['Native_Country'].describe()"
   ]
  },
  {
   "cell_type": "code",
   "execution_count": 15,
   "metadata": {},
   "outputs": [
    {
     "data": {
      "text/plain": [
       "count     30162\n",
       "unique        2\n",
       "top       <=50K\n",
       "freq      22654\n",
       "Name: Income, dtype: object"
      ]
     },
     "execution_count": 15,
     "metadata": {},
     "output_type": "execute_result"
    }
   ],
   "source": [
    "df['Income'].describe()"
   ]
  },
  {
   "cell_type": "code",
   "execution_count": null,
   "metadata": {},
   "outputs": [],
   "source": [
    "#visualizations of data spreads for each feature"
   ]
  },
  {
   "cell_type": "code",
   "execution_count": null,
   "metadata": {
    "scrolled": false
   },
   "outputs": [],
   "source": [
    "plt.figure(figsize=(15,8))\n",
    "sns.countplot(df['Workclass'], hue=df['Income'])"
   ]
  },
  {
   "cell_type": "code",
   "execution_count": null,
   "metadata": {},
   "outputs": [],
   "source": [
    "plt.figure(figsize=(15,8))\n",
    "ax = sns.countplot(df['Edu'],hue=df['Income'])\n",
    "ax.set_xticklabels(ax.get_xticklabels(), rotation=40, ha=\"right\")\n",
    "plt.tight_layout()\n",
    "plt.show()"
   ]
  },
  {
   "cell_type": "code",
   "execution_count": null,
   "metadata": {},
   "outputs": [],
   "source": [
    "plt.figure(figsize=(15,8))\n",
    "sns.countplot(df['Marital_Status'], hue=df['Income']);"
   ]
  },
  {
   "cell_type": "code",
   "execution_count": null,
   "metadata": {},
   "outputs": [],
   "source": [
    "plt.figure(figsize=(15,8))\n",
    "ax = sns.countplot(df['Occupation'], hue=df['Income']);\n",
    "\n",
    "ax.set_xticklabels(ax.get_xticklabels(), rotation=40, ha=\"right\")\n",
    "plt.tight_layout()\n",
    "plt.show()"
   ]
  },
  {
   "cell_type": "code",
   "execution_count": null,
   "metadata": {},
   "outputs": [],
   "source": [
    "plt.figure(figsize=(15,8))\n",
    "sns.countplot(df['Relationship'], hue=df['Income']);"
   ]
  },
  {
   "cell_type": "code",
   "execution_count": null,
   "metadata": {},
   "outputs": [],
   "source": [
    "plt.figure(figsize=(15,8))\n",
    "sns.countplot(df['Race'], hue=df['Income']);"
   ]
  },
  {
   "cell_type": "code",
   "execution_count": null,
   "metadata": {},
   "outputs": [],
   "source": [
    "sns.countplot(df['Sex'], hue=df['Income']);"
   ]
  },
  {
   "cell_type": "code",
   "execution_count": null,
   "metadata": {},
   "outputs": [],
   "source": [
    "plt.figure(figsize=(15,8))\n",
    "ax = sns.countplot(df['Native_Country']);\n",
    "\n",
    "ax.set_xticklabels(ax.get_xticklabels(), rotation=40, ha=\"right\")\n",
    "plt.tight_layout()\n",
    "plt.show()"
   ]
  },
  {
   "cell_type": "code",
   "execution_count": null,
   "metadata": {},
   "outputs": [],
   "source": [
    "sns.heatmap(df.corr(), annot=True, cmap='viridis');"
   ]
  },
  {
   "cell_type": "code",
   "execution_count": null,
   "metadata": {},
   "outputs": [],
   "source": [
    "#consolidating data spreads to fewer categories"
   ]
  },
  {
   "cell_type": "code",
   "execution_count": 21,
   "metadata": {},
   "outputs": [],
   "source": [
    "#Age: Separated into 4 bins: 0-20, 20-40, 40-60, and 60+\n",
    "df['Age'] = pd.to_numeric(df['Age'])\n",
    "df['Age'] = pd.cut(df['Age'], \n",
    "                   bins = [0, 20, 40, 60, 100], \n",
    "                   labels = ['Young', 'Early-Middle', 'Late-Middle','Old'])"
   ]
  },
  {
   "cell_type": "code",
   "execution_count": 22,
   "metadata": {},
   "outputs": [],
   "source": [
    "# Hours/wk: Separated by 0-20: part time 21-45: full time 46+ as over time\n",
    "df['Hours/wk'] = pd.cut(df['Hours/wk'], \n",
    "                                   bins = [0, 20, 45, 100], \n",
    "                                   labels = ['Part-Time', 'Full-Time', 'Over-Time'])"
   ]
  },
  {
   "cell_type": "code",
   "execution_count": 23,
   "metadata": {},
   "outputs": [],
   "source": [
    "#Capital Delta: We created Capital Delta using the formula formula: Cap Gains - Cap. Losses\n",
    "df['Cap_Delta'] = df['Cap_Gain'] - df['Cap_Loss']"
   ]
  },
  {
   "cell_type": "code",
   "execution_count": 24,
   "metadata": {},
   "outputs": [],
   "source": [
    "#Native Country: 91 percent of ‘Native Country’ was the US,so the feature was made into two categories: ‘US and ‘Not Native to US’. \n",
    "countries = np.array(df['Native_Country'].unique())\n",
    "countries = np.delete(countries, 0)\n",
    "df['Native_Country'].replace(countries, 'Other', inplace = True)\n",
    "\n"
   ]
  },
  {
   "cell_type": "code",
   "execution_count": 25,
   "metadata": {},
   "outputs": [
    {
     "data": {
      "text/plain": [
       "array(['Never-married', 'married', 'separated'], dtype=object)"
      ]
     },
     "execution_count": 25,
     "metadata": {},
     "output_type": "execute_result"
    }
   ],
   "source": [
    "# Marital_Status:combine ‘Divorced’,’separated’, ‘Married-spouse-absent’ and ‘Widowed’ into ‘Separated’, and combine Married-AF-spouse into ‘Married’\n",
    "df['Marital_Status'].replace(['Divorced','Widowed','Separated','Married-spouse-absent'],'separated', inplace = True)\n",
    "df['Marital_Status'].replace(['Married-AF-spouse','Married-civ-spouse'],'married', inplace = True)\n",
    "df['Marital_Status'].unique()"
   ]
  },
  {
   "cell_type": "code",
   "execution_count": 26,
   "metadata": {},
   "outputs": [],
   "source": [
    "# race \n",
    "df['Race'].replace(['Black','Asian-Pac-Islander','Amer-Indian-Eskimo'],'Other', inplace = True)"
   ]
  },
  {
   "cell_type": "code",
   "execution_count": 27,
   "metadata": {},
   "outputs": [],
   "source": [
    "#Education\n",
    "df['Edu'].replace(['11th', '9th', '7th-8th', '5th-6th', '10th', '1st-4th', 'Preschool', '12th'],\n",
    "                             'Grade School', inplace = True)\n",
    "df['Edu'].replace(['Assoc-voc','Assoc-acdm'],\n",
    "                             'Associates', inplace = True)"
   ]
  },
  {
   "cell_type": "code",
   "execution_count": 28,
   "metadata": {},
   "outputs": [],
   "source": [
    "#workclass\n",
    "df['Workclass'].replace(['State-gov','Federal-gov','Local-gov'],'gov', inplace = True)"
   ]
  },
  {
   "cell_type": "code",
   "execution_count": 29,
   "metadata": {},
   "outputs": [],
   "source": [
    "#dropping columns\n",
    "df.drop(['Occupation','FNLWGT','Edu_num', 'Cap_Gain', 'Cap_Loss', 'Relationship'], axis=1, inplace=True)"
   ]
  },
  {
   "cell_type": "code",
   "execution_count": 31,
   "metadata": {},
   "outputs": [
    {
     "name": "stdout",
     "output_type": "stream",
     "text": [
      "Index(['Age', 'Workclass', 'Edu', 'Marital_Status', 'Race', 'Sex', 'Hours/wk',\n",
      "       'Native_Country', 'Income', 'Cap_Delta'],\n",
      "      dtype='object')\n"
     ]
    }
   ],
   "source": [
    "#feature selection\n",
    "print(df.columns)"
   ]
  },
  {
   "cell_type": "code",
   "execution_count": null,
   "metadata": {},
   "outputs": [],
   "source": [
    "df.to_csv('/Users/brendanmcshane/Desktop/Data Mining | Fall 2020/project.test.processed.csv')"
   ]
  },
  {
   "cell_type": "code",
   "execution_count": null,
   "metadata": {},
   "outputs": [],
   "source": [
    "#Build Model"
   ]
  },
  {
   "cell_type": "code",
   "execution_count": null,
   "metadata": {},
   "outputs": [],
   "source": [
    "#Endocing categorical data"
   ]
  },
  {
   "cell_type": "code",
   "execution_count": 32,
   "metadata": {
    "scrolled": true
   },
   "outputs": [
    {
     "name": "stdout",
     "output_type": "stream",
     "text": [
      "numeric_variable ['Cap_Delta'] categorical_variable ['Age', 'Workclass', 'Edu', 'Marital_Status', 'Race', 'Sex', 'Hours/wk', 'Native_Country', 'Income']\n"
     ]
    }
   ],
   "source": [
    "# Check feature types\n",
    "numeric_variable=[]\n",
    "categorical_variable=[]\n",
    "\n",
    "for column in df.columns:\n",
    "    if df[column].dtype == 'int':\n",
    "        numeric_variable.append(column)\n",
    "    else:\n",
    "        categorical_variable.append(column)\n",
    "        \n",
    "print('numeric_variable',numeric_variable,'categorical_variable',categorical_variable)"
   ]
  },
  {
   "cell_type": "code",
   "execution_count": 33,
   "metadata": {
    "scrolled": true
   },
   "outputs": [],
   "source": [
    "# EncodeCategorical\n",
    "from sklearn.preprocessing import OrdinalEncoder\n",
    "from sklearn.preprocessing import LabelEncoder\n",
    "from sklearn.preprocessing import OneHotEncoder\n",
    "\n",
    "#encoding ordinal variables\n",
    "enc = OrdinalEncoder()\n",
    "enc.fit(df[[\"Age\", \"Edu\", 'Hours/wk']])\n",
    "df[[\"Age\",\"Edu\",'Hours/wk']] = enc.transform(df[[\"Age\",\"Edu\",'Hours/wk']])"
   ]
  },
  {
   "cell_type": "code",
   "execution_count": 34,
   "metadata": {},
   "outputs": [],
   "source": [
    "#encoding nominal valraibles\n",
    "df[\"Workclass\"] = pd.get_dummies(df,columns=[\"Workclass\"])\n",
    "df[\"Marital_Status\"] = pd.get_dummies(df,columns=[\"Marital_Status\"])\n",
    "df[\"Race\"] = pd.get_dummies(df,columns=[\"Race\"])\n",
    "df[\"Sex\"] = pd.get_dummies(df,columns=[\"Sex\"])\n",
    "df[\"Native_Country\"] = pd.get_dummies(df,columns=[\"Native_Country\"])"
   ]
  },
  {
   "cell_type": "code",
   "execution_count": 35,
   "metadata": {},
   "outputs": [],
   "source": [
    "#encoding target \n",
    "labelencoder = LabelEncoder()\n",
    "df['Income'] = labelencoder.fit_transform(df['Income'])"
   ]
  },
  {
   "cell_type": "code",
   "execution_count": 42,
   "metadata": {},
   "outputs": [
    {
     "name": "stdout",
     "output_type": "stream",
     "text": [
      "[0. 1. 3. 2.]\n",
      "[0.0 1.0 3.0 2.0]\n",
      "[1. 4. 3. 5. 7. 0. 2. 6.]\n",
      "[0.0 1.0 3.0 2.0]\n",
      "[0.0 1.0 3.0 2.0]\n",
      "[0.0 1.0 3.0 2.0]\n",
      "[0. 2. 1.]\n",
      "[0.0 1.0 3.0 2.0]\n",
      "[0 1]\n"
     ]
    }
   ],
   "source": [
    "for col in df.columns:\n",
    "    if col != 'Cap_Delta':\n",
    "        print(df[col].unique())"
   ]
  },
  {
   "cell_type": "code",
   "execution_count": 37,
   "metadata": {},
   "outputs": [],
   "source": [
    "#Select X and Y\n",
    "features=['Age', 'Workclass','Edu','Marital_Status','Race', 'Sex','Hours/wk', 'Native_Country','Cap_Delta']"
   ]
  },
  {
   "cell_type": "code",
   "execution_count": null,
   "metadata": {},
   "outputs": [],
   "source": [
    "# processing test dataset"
   ]
  },
  {
   "cell_type": "code",
   "execution_count": 65,
   "metadata": {},
   "outputs": [],
   "source": [
    "#age\n",
    "df_test['Age'] = pd.to_numeric(df_test['Age'])\n",
    "df_test['Age'] = pd.cut(df_test['Age'], \n",
    "                   bins = [0, 20, 40, 60, 100], \n",
    "                   labels = ['Young', 'Early-Middle', 'Late-Middle','Old'])"
   ]
  },
  {
   "cell_type": "code",
   "execution_count": 67,
   "metadata": {},
   "outputs": [],
   "source": [
    "# hors/wk\n",
    "df_test['Hours/wk'] = pd.cut(df_test['Hours/wk'], \n",
    "                                   bins = [0, 20, 45, 100], \n",
    "                                   labels = ['Part-Time', 'Full-Time', 'Over-Time'])"
   ]
  },
  {
   "cell_type": "code",
   "execution_count": 68,
   "metadata": {},
   "outputs": [],
   "source": [
    "#Cap_Delta\n",
    "df_test['Cap_Delta'] = df_test['Cap_Gain'] - df_test['Cap_Loss']"
   ]
  },
  {
   "cell_type": "code",
   "execution_count": 69,
   "metadata": {},
   "outputs": [],
   "source": [
    "#countries\n",
    "countries = np.array(df_test['Native_Country'].unique())\n",
    "countries = np.delete(countries, 0)\n",
    "df_test['Native_Country'].replace(countries, 'Other', inplace = True)"
   ]
  },
  {
   "cell_type": "code",
   "execution_count": 70,
   "metadata": {},
   "outputs": [],
   "source": [
    "#Marital_Status\n",
    "df_test['Marital_Status'].replace(['Divorced','Widowed','Separated','Married-spouse-absent'],'separated', inplace = True)\n",
    "df_test['Marital_Status'].replace(['Married-AF-spouse','Married-civ-spouse'],'married', inplace = True)"
   ]
  },
  {
   "cell_type": "code",
   "execution_count": 71,
   "metadata": {},
   "outputs": [],
   "source": [
    "#Race\n",
    "df_test['Race'].replace(['Black','Asian-Pac-Islander','Amer-Indian-Eskimo'],'Other', inplace = True)"
   ]
  },
  {
   "cell_type": "code",
   "execution_count": 72,
   "metadata": {},
   "outputs": [],
   "source": [
    "#Edu\n",
    "df_test['Edu'].replace(['11th', '9th', '7th-8th', '5th-6th', '10th', '1st-4th', 'Preschool', '12th'],\n",
    "                             'Grade School', inplace = True)\n",
    "df_test['Edu'].replace(['Assoc-voc','Assoc-acdm'],\n",
    "                             'Associates', inplace = True)"
   ]
  },
  {
   "cell_type": "code",
   "execution_count": 73,
   "metadata": {},
   "outputs": [],
   "source": [
    "#Workclass\n",
    "df_test['Workclass'].replace(['State-gov','Federal-gov','Local-gov'],'gov', inplace = True)"
   ]
  },
  {
   "cell_type": "code",
   "execution_count": 74,
   "metadata": {},
   "outputs": [],
   "source": [
    "df_test.drop(['Occupation','FNLWGT','Edu_num', 'Cap_Gain', 'Cap_Loss', 'Relationship'], axis=1, inplace=True)"
   ]
  },
  {
   "cell_type": "code",
   "execution_count": 75,
   "metadata": {},
   "outputs": [],
   "source": [
    "#encoding ordinal variables\n",
    "enc = OrdinalEncoder()\n",
    "enc.fit(df_test[[\"Age\", \"Edu\", 'Hours/wk']])\n",
    "df_test[[\"Age\",\"Edu\",'Hours/wk']] = enc.transform(df_test[[\"Age\",\"Edu\",'Hours/wk']])"
   ]
  },
  {
   "cell_type": "code",
   "execution_count": 76,
   "metadata": {},
   "outputs": [],
   "source": [
    "#encoding nominal valraibles\n",
    "df_test[\"Workclass\"] = pd.get_dummies(df_test,columns=[\"Workclass\"])\n",
    "df_test[\"Marital_Status\"] = pd.get_dummies(df_test,columns=[\"Marital_Status\"])\n",
    "df_test[\"Race\"] = pd.get_dummies(df_test,columns=[\"Race\"])\n",
    "df_test[\"Sex\"] = pd.get_dummies(df_test,columns=[\"Sex\"])\n",
    "df_test[\"Native_Country\"] = pd.get_dummies(df_test,columns=[\"Native_Country\"])"
   ]
  },
  {
   "cell_type": "code",
   "execution_count": 77,
   "metadata": {},
   "outputs": [],
   "source": [
    "df_test['Income'] = labelencoder.fit_transform(df_test['Income'])"
   ]
  },
  {
   "cell_type": "code",
   "execution_count": 78,
   "metadata": {},
   "outputs": [],
   "source": [
    "x_train=df[(features)]\n",
    "y_train=df['Income']"
   ]
  },
  {
   "cell_type": "code",
   "execution_count": 79,
   "metadata": {},
   "outputs": [],
   "source": [
    "x_test=df_test[(features)]\n",
    "y_test=df_test['Income']"
   ]
  },
  {
   "cell_type": "code",
   "execution_count": 80,
   "metadata": {},
   "outputs": [
    {
     "name": "stdout",
     "output_type": "stream",
     "text": [
      "(30162, 9) (30162,) (16281, 9) (16281,)\n"
     ]
    }
   ],
   "source": [
    "print(x_train.shape,y_train.shape,x_test.shape,y_test.shape)"
   ]
  },
  {
   "cell_type": "code",
   "execution_count": 81,
   "metadata": {},
   "outputs": [],
   "source": [
    "#Build Model"
   ]
  },
  {
   "cell_type": "code",
   "execution_count": 82,
   "metadata": {},
   "outputs": [],
   "source": [
    "from sklearn.linear_model import LogisticRegression\n",
    "from sklearn.ensemble import RandomForestClassifier \n",
    "from sklearn.neighbors import KNeighborsClassifier \n",
    "from sklearn.naive_bayes import GaussianNB \n",
    "from sklearn.ensemble import VotingClassifier"
   ]
  },
  {
   "cell_type": "code",
   "execution_count": 83,
   "metadata": {},
   "outputs": [],
   "source": [
    "#Standardscaler\n",
    "from sklearn.preprocessing import StandardScaler\n",
    "scaler=StandardScaler()\n",
    "X_train_log=scaler.fit_transform(x_train)\n",
    "x_test_log=scaler.fit_transform(x_test)"
   ]
  },
  {
   "cell_type": "code",
   "execution_count": 97,
   "metadata": {},
   "outputs": [],
   "source": [
    "#from sklearn.model_selection import cross_val_score\n",
    "from sklearn.model_selection import cross_val_predict\n",
    "#from sklearn.model_selection import RepeatedStratifiedKFold\n",
    "from sklearn.metrics import classification_report\n",
    "from sklearn.metrics import plot_confusion_matrix\n",
    "from sklearn import metrics\n",
    "import matplotlib.pyplot as plt"
   ]
  },
  {
   "cell_type": "code",
   "execution_count": 101,
   "metadata": {},
   "outputs": [
    {
     "name": "stdout",
     "output_type": "stream",
     "text": [
      "The accuracy of the Logistic Regression is 0.8\n",
      "              precision    recall  f1-score   support\n",
      "\n",
      "       <=50K       0.80      0.99      0.88     12435\n",
      "        >50K       0.90      0.18      0.30      3846\n",
      "\n",
      "    accuracy                           0.80     16281\n",
      "   macro avg       0.85      0.59      0.59     16281\n",
      "weighted avg       0.82      0.80      0.75     16281\n",
      "\n"
     ]
    },
    {
     "data": {
      "text/plain": [
       "Text(0.5, 1.0, 'Logistic')"
      ]
     },
     "execution_count": 101,
     "metadata": {},
     "output_type": "execute_result"
    },
    {
     "data": {
      "image/png": "[encoded data removed]",
      "text/plain": [
       "<Figure size 432x288 with 2 Axes>"
      ]
     },
     "metadata": {
      "needs_background": "light"
     },
     "output_type": "display_data"
    }
   ],
   "source": [
    "# Logistic Regression\n",
    "Logistic = LogisticRegressionCV(cv=10, penalty='l2').fit(X_train_log, y_train)\n",
    "print('The accuracy of the Logistic Regression is', round(Logistic.score(x_test_log,y_test),2))\n",
    "\n",
    "y_pred=Logistic.predict(x_test_log)\n",
    "target_names = ['<=50K', '>50K']\n",
    "print(classification_report(y_test, y_pred, target_names=target_names))\n",
    "\n",
    "plot_cm=plot_confusion_matrix(Logistic,x_test_log,y_test,display_labels=target_names, cmap=plt.cm.Blues,normalize='true') \n",
    "plot_cm.ax_.set_title('Logistic') "
   ]
  },
  {
   "cell_type": "code",
   "execution_count": 106,
   "metadata": {
    "scrolled": false
   },
   "outputs": [
    {
     "name": "stdout",
     "output_type": "stream",
     "text": [
      "The accuracy of the Random Forest Model is 0.84\n",
      "              precision    recall  f1-score   support\n",
      "\n",
      "       <=50K       0.85      0.96      0.90     12435\n",
      "        >50K       0.78      0.44      0.57      3846\n",
      "\n",
      "    accuracy                           0.84     16281\n",
      "   macro avg       0.81      0.70      0.73     16281\n",
      "weighted avg       0.83      0.84      0.82     16281\n",
      "\n"
     ]
    },
    {
     "data": {
      "text/plain": [
       "Text(0.5, 1.0, 'randomforest')"
      ]
     },
     "execution_count": 106,
     "metadata": {},
     "output_type": "execute_result"
    },
    {
     "data": {
      "image/png": "[encoded data removed]",
      "text/plain": [
       "<Figure size 432x288 with 2 Axes>"
      ]
     },
     "metadata": {
      "needs_background": "light"
     },
     "output_type": "display_data"
    }
   ],
   "source": [
    "# Random Forest Classifier\n",
    "randomforest = RandomForestClassifier()\n",
    "randomforest.fit(x_train, y_train)\n",
    "score_randomforest = randomforest.score(x_test,y_test)\n",
    "print('The accuracy of the Random Forest Model is', round(score_randomforest,2))\n",
    "\n",
    "y_pred = randomforest.predict(x_test)\n",
    "target_names = ['<=50K', '>50K']\n",
    "print(classification_report(y_test, y_pred, target_names=target_names))\n",
    "\n",
    "plot_cm=plot_confusion_matrix(randomforest,x_test,y_test,display_labels=target_names, cmap=plt.cm.Blues,normalize='true') \n",
    "plot_cm.ax_.set_title('randomforest')"
   ]
  },
  {
   "cell_type": "code",
   "execution_count": 124,
   "metadata": {},
   "outputs": [
    {
     "name": "stdout",
     "output_type": "stream",
     "text": [
      "The accuracy of the KNN Model is 0.8\n",
      "              precision    recall  f1-score   support\n",
      "\n",
      "       <=50K       0.84      0.92      0.88     12435\n",
      "        >50K       0.61      0.43      0.50      3846\n",
      "\n",
      "    accuracy                           0.80     16281\n",
      "   macro avg       0.72      0.67      0.69     16281\n",
      "weighted avg       0.78      0.80      0.79     16281\n",
      "\n"
     ]
    },
    {
     "data": {
      "text/plain": [
       "Text(0.5, 1.0, 'knn')"
      ]
     },
     "execution_count": 124,
     "metadata": {},
     "output_type": "execute_result"
    },
    {
     "data": {
      "image/png": "[encoded data removed]",
      "text/plain": [
       "<Figure size 432x288 with 2 Axes>"
      ]
     },
     "metadata": {
      "needs_background": "light"
     },
     "output_type": "display_data"
    }
   ],
   "source": [
    "# K-Nearest Neighbors\n",
    "knn = KNeighborsClassifier()\n",
    "knn.fit(X_train_log, y_train)\n",
    "score_knn = knn.score(x_test_log,y_test)\n",
    "print('The accuracy of the KNN Model is',round(score_knn,2))\n",
    "\n",
    "y_pred = knn.predict(x_test_log)\n",
    "target_names = ['<=50K', '>50K']\n",
    "print(classification_report(y_test, y_pred, target_names=target_names))\n",
    "\n",
    "plot_cm=plot_confusion_matrix(knn,x_test_log,y_test,display_labels=target_names, cmap=plt.cm.Blues,normalize='true') \n",
    "plot_cm.ax_.set_title('knn')"
   ]
  },
  {
   "cell_type": "code",
   "execution_count": 125,
   "metadata": {},
   "outputs": [
    {
     "name": "stdout",
     "output_type": "stream",
     "text": [
      "The accuracy of Gaussian Naive Bayes is 0.8\n",
      "              precision    recall  f1-score   support\n",
      "\n",
      "       <=50K       0.81      0.97      0.88     12435\n",
      "        >50K       0.72      0.26      0.38      3846\n",
      "\n",
      "    accuracy                           0.80     16281\n",
      "   macro avg       0.76      0.61      0.63     16281\n",
      "weighted avg       0.79      0.80      0.76     16281\n",
      "\n"
     ]
    },
    {
     "data": {
      "text/plain": [
       "Text(0.5, 1.0, 'gaussian')"
      ]
     },
     "execution_count": 125,
     "metadata": {},
     "output_type": "execute_result"
    },
    {
     "data": {
      "image/png": "[encoded data removed]",
      "text/plain": [
       "<Figure size 432x288 with 2 Axes>"
      ]
     },
     "metadata": {
      "needs_background": "light"
     },
     "output_type": "display_data"
    }
   ],
   "source": [
    "# Gaussian Naive Bayes\n",
    "gaussian = GaussianNB()\n",
    "gaussian.fit(x_train, y_train)\n",
    "score_gaussian = gaussian.score(x_test,y_test)\n",
    "print('The accuracy of Gaussian Naive Bayes is', round(score_gaussian,2))\n",
    "\n",
    "y_pred = gaussian.predict(x_test)\n",
    "target_names = ['<=50K', '>50K']\n",
    "print(classification_report(y_test, y_pred, target_names=target_names))\n",
    "\n",
    "plot_cm=plot_confusion_matrix(gaussian,x_test,y_test,display_labels=target_names, cmap=plt.cm.Blues,normalize='true') \n",
    "plot_cm.ax_.set_title('gaussian')"
   ]
  },
  {
   "cell_type": "code",
   "execution_count": 127,
   "metadata": {},
   "outputs": [
    {
     "name": "stdout",
     "output_type": "stream",
     "text": [
      "The accuracy of ensemble model2 is 0.83\n",
      "              precision    recall  f1-score   support\n",
      "\n",
      "       <=50K       0.82      1.00      0.90     12435\n",
      "        >50K       0.95      0.30      0.45      3846\n",
      "\n",
      "    accuracy                           0.83     16281\n",
      "   macro avg       0.88      0.65      0.68     16281\n",
      "weighted avg       0.85      0.83      0.79     16281\n",
      "\n"
     ]
    },
    {
     "data": {
      "text/plain": [
       "Text(0.5, 1.0, 'ensemble with soft voting')"
      ]
     },
     "execution_count": 127,
     "metadata": {},
     "output_type": "execute_result"
    },
    {
     "data": {
      "image/png": "[encoded data removed]",
      "text/plain": [
       "<Figure size 432x288 with 2 Axes>"
      ]
     },
     "metadata": {
      "needs_background": "light"
     },
     "output_type": "display_data"
    }
   ],
   "source": [
    "eclf2 = VotingClassifier(estimators=[('lr', Logistic), ('rf', randomforest), ('knn', knn), ('gnb', gaussian)],voting='soft',flatten_transform=True)\n",
    "eclf2 = eclf2.fit(x_train, y_train)\n",
    "score_eclf2 = eclf2.score(x_test,y_test)\n",
    "print('The accuracy of ensemble model2 is', round(score_eclf2,2))\n",
    "\n",
    "y_pred = eclf2.predict(x_test)\n",
    "target_names = ['<=50K', '>50K']\n",
    "print(classification_report(y_test, y_pred, target_names=target_names))\n",
    "\n",
    "plot_cm=plot_confusion_matrix(eclf2,x_test,y_test,display_labels=target_names, cmap=plt.cm.Blues,normalize='true') \n",
    "plot_cm.ax_.set_title('ensemble with soft voting')\n"
   ]
  },
  {
   "cell_type": "code",
   "execution_count": 142,
   "metadata": {},
   "outputs": [
    {
     "data": {
      "image/png": "[encoded data removed]",
      "text/plain": [
       "<Figure size 432x288 with 1 Axes>"
      ]
     },
     "metadata": {
      "needs_background": "light"
     },
     "output_type": "display_data"
    },
    {
     "data": {
      "image/png": "[encoded data removed]",
      "text/plain": [
       "<Figure size 432x288 with 1 Axes>"
      ]
     },
     "metadata": {
      "needs_background": "light"
     },
     "output_type": "display_data"
    },
    {
     "data": {
      "image/png": "[encoded data removed]",
      "text/plain": [
       "<Figure size 432x288 with 1 Axes>"
      ]
     },
     "metadata": {
      "needs_background": "light"
     },
     "output_type": "display_data"
    },
    {
     "data": {
      "image/png": "[encoded data removed]",
      "text/plain": [
       "<Figure size 432x288 with 1 Axes>"
      ]
     },
     "metadata": {
      "needs_background": "light"
     },
     "output_type": "display_data"
    }
   ],
   "source": [
    "#AUC plot\n",
    "Logistic_plt=metrics.plot_roc_curve(Logistic, x_test_log, y_test)\n",
    "rf_plt=metrics.plot_roc_curve(randomforest, x_test, y_test)\n",
    "knn_plt=metrics.plot_roc_curve(knn, x_test_log,  y_test) \n",
    "nb_plt=metrics.plot_roc_curve(gaussian, x_test,  y_test) "
   ]
  },
  {
   "cell_type": "code",
   "execution_count": 143,
   "metadata": {},
   "outputs": [
    {
     "data": {
      "image/png": "[encoded data removed]",
      "text/plain": [
       "<Figure size 432x288 with 1 Axes>"
      ]
     },
     "metadata": {
      "needs_background": "light"
     },
     "output_type": "display_data"
    }
   ],
   "source": [
    "from sklearn.metrics import roc_curve, auc\n",
    "from matplotlib import pyplot\n",
    "\n",
    "# predict probabilities\n",
    "pre_probs = eclf2.predict_proba(x_test)\n",
    "pre_prob = pre_probs[:, 1]\n",
    "fpr, tpr, _ = roc_curve(y_test, pre_prob)\n",
    "AUC=round(auc(fpr, tpr),2)\n",
    "\n",
    "plt.plot(fpr, tpr, marker='', label='ensemble with soft voting '+str(AUC))\n",
    "\n",
    "plt.xlabel('False Positive Rate')\n",
    "plt.ylabel('True Positive Rate')\n",
    "plt.legend()\n",
    "plt.show()"
   ]
  },
  {
   "cell_type": "code",
   "execution_count": null,
   "metadata": {},
   "outputs": [],
   "source": []
  }
 ],
 "metadata": {
  "kernelspec": {
   "display_name": "Python 3",
   "language": "python",
   "name": "python3"
  },
  "language_info": {
   "codemirror_mode": {
    "name": "ipython",
    "version": 3
   },
   "file_extension": ".py",
   "mimetype": "text/x-python",
   "name": "python",
   "nbconvert_exporter": "python",
   "pygments_lexer": "ipython3",
   "version": "3.7.6"
  }
 },
 "nbformat": 4,
 "nbformat_minor": 4
}
